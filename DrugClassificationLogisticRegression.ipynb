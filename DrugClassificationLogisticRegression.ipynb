{
 "cells": [
  {
   "cell_type": "code",
   "execution_count": 1,
   "metadata": {
    "_cell_guid": "b1076dfc-b9ad-4769-8c92-a6c4dae69d19",
    "_uuid": "8f2839f25d086af736a60e9eeb907d3b93b6e0e5",
    "execution": {
     "iopub.execute_input": "2020-12-15T23:40:05.645154Z",
     "iopub.status.busy": "2020-12-15T23:40:05.644436Z",
     "iopub.status.idle": "2020-12-15T23:40:05.660230Z",
     "shell.execute_reply": "2020-12-15T23:40:05.660767Z"
    },
    "papermill": {
     "duration": 0.061471,
     "end_time": "2020-12-15T23:40:05.660956",
     "exception": false,
     "start_time": "2020-12-15T23:40:05.599485",
     "status": "completed"
    },
    "tags": []
   },
   "outputs": [
    {
     "name": "stdout",
     "output_type": "stream",
     "text": [
      "/kaggle/input/drug-classification/drug200.csv\n"
     ]
    }
   ],
   "source": [
    "import numpy as np # linear algebra\n",
    "import pandas as pd # data processing, CSV file I/O (e.g. pd.read_csv)\n",
    "import os\n",
    "for dirname, _, filenames in os.walk('/kaggle/input'):\n",
    "    for filename in filenames:\n",
    "        print(os.path.join(dirname, filename))"
   ]
  },
  {
   "cell_type": "markdown",
   "metadata": {
    "papermill": {
     "duration": 0.040479,
     "end_time": "2020-12-15T23:40:05.744264",
     "exception": false,
     "start_time": "2020-12-15T23:40:05.703785",
     "status": "completed"
    },
    "tags": []
   },
   "source": [
    "## Import libraries to graph"
   ]
  },
  {
   "cell_type": "code",
   "execution_count": 2,
   "metadata": {
    "execution": {
     "iopub.execute_input": "2020-12-15T23:40:05.829160Z",
     "iopub.status.busy": "2020-12-15T23:40:05.828505Z",
     "iopub.status.idle": "2020-12-15T23:40:06.929089Z",
     "shell.execute_reply": "2020-12-15T23:40:06.929668Z"
    },
    "papermill": {
     "duration": 1.144873,
     "end_time": "2020-12-15T23:40:06.930088",
     "exception": false,
     "start_time": "2020-12-15T23:40:05.785215",
     "status": "completed"
    },
    "tags": []
   },
   "outputs": [],
   "source": [
    "import seaborn as sns\n",
    "import matplotlib.pyplot as plt\n",
    "\n",
    "sns.set_style('darkgrid')"
   ]
  },
  {
   "cell_type": "markdown",
   "metadata": {
    "papermill": {
     "duration": 0.041236,
     "end_time": "2020-12-15T23:40:07.012542",
     "exception": false,
     "start_time": "2020-12-15T23:40:06.971306",
     "status": "completed"
    },
    "tags": []
   },
   "source": [
    "## Data Characteristics"
   ]
  },
  {
   "cell_type": "code",
   "execution_count": 3,
   "metadata": {
    "_cell_guid": "79c7e3d0-c299-4dcb-8224-4455121ee9b0",
    "_uuid": "d629ff2d2480ee46fbb7e2d37f6b5fab8052498a",
    "execution": {
     "iopub.execute_input": "2020-12-15T23:40:07.100268Z",
     "iopub.status.busy": "2020-12-15T23:40:07.099499Z",
     "iopub.status.idle": "2020-12-15T23:40:07.132708Z",
     "shell.execute_reply": "2020-12-15T23:40:07.133364Z"
    },
    "papermill": {
     "duration": 0.080324,
     "end_time": "2020-12-15T23:40:07.133507",
     "exception": false,
     "start_time": "2020-12-15T23:40:07.053183",
     "status": "completed"
    },
    "tags": []
   },
   "outputs": [
    {
     "data": {
      "text/html": [
       "<div>\n",
       "<style scoped>\n",
       "    .dataframe tbody tr th:only-of-type {\n",
       "        vertical-align: middle;\n",
       "    }\n",
       "\n",
       "    .dataframe tbody tr th {\n",
       "        vertical-align: top;\n",
       "    }\n",
       "\n",
       "    .dataframe thead th {\n",
       "        text-align: right;\n",
       "    }\n",
       "</style>\n",
       "<table border=\"1\" class=\"dataframe\">\n",
       "  <thead>\n",
       "    <tr style=\"text-align: right;\">\n",
       "      <th></th>\n",
       "      <th>Age</th>\n",
       "      <th>Sex</th>\n",
       "      <th>BP</th>\n",
       "      <th>Cholesterol</th>\n",
       "      <th>Na_to_K</th>\n",
       "      <th>Drug</th>\n",
       "    </tr>\n",
       "  </thead>\n",
       "  <tbody>\n",
       "    <tr>\n",
       "      <th>0</th>\n",
       "      <td>23</td>\n",
       "      <td>F</td>\n",
       "      <td>HIGH</td>\n",
       "      <td>HIGH</td>\n",
       "      <td>25.355</td>\n",
       "      <td>DrugY</td>\n",
       "    </tr>\n",
       "    <tr>\n",
       "      <th>1</th>\n",
       "      <td>47</td>\n",
       "      <td>M</td>\n",
       "      <td>LOW</td>\n",
       "      <td>HIGH</td>\n",
       "      <td>13.093</td>\n",
       "      <td>drugC</td>\n",
       "    </tr>\n",
       "    <tr>\n",
       "      <th>2</th>\n",
       "      <td>47</td>\n",
       "      <td>M</td>\n",
       "      <td>LOW</td>\n",
       "      <td>HIGH</td>\n",
       "      <td>10.114</td>\n",
       "      <td>drugC</td>\n",
       "    </tr>\n",
       "    <tr>\n",
       "      <th>3</th>\n",
       "      <td>28</td>\n",
       "      <td>F</td>\n",
       "      <td>NORMAL</td>\n",
       "      <td>HIGH</td>\n",
       "      <td>7.798</td>\n",
       "      <td>drugX</td>\n",
       "    </tr>\n",
       "    <tr>\n",
       "      <th>4</th>\n",
       "      <td>61</td>\n",
       "      <td>F</td>\n",
       "      <td>LOW</td>\n",
       "      <td>HIGH</td>\n",
       "      <td>18.043</td>\n",
       "      <td>DrugY</td>\n",
       "    </tr>\n",
       "  </tbody>\n",
       "</table>\n",
       "</div>"
      ],
      "text/plain": [
       "   Age Sex      BP Cholesterol  Na_to_K   Drug\n",
       "0   23   F    HIGH        HIGH   25.355  DrugY\n",
       "1   47   M     LOW        HIGH   13.093  drugC\n",
       "2   47   M     LOW        HIGH   10.114  drugC\n",
       "3   28   F  NORMAL        HIGH    7.798  drugX\n",
       "4   61   F     LOW        HIGH   18.043  DrugY"
      ]
     },
     "execution_count": 3,
     "metadata": {},
     "output_type": "execute_result"
    }
   ],
   "source": [
    "drug = pd.read_csv('/kaggle/input/drug-classification/drug200.csv')\n",
    "\n",
    "drug.head()"
   ]
  },
  {
   "cell_type": "code",
   "execution_count": 4,
   "metadata": {
    "execution": {
     "iopub.execute_input": "2020-12-15T23:40:07.219689Z",
     "iopub.status.busy": "2020-12-15T23:40:07.219011Z",
     "iopub.status.idle": "2020-12-15T23:40:07.229871Z",
     "shell.execute_reply": "2020-12-15T23:40:07.229085Z"
    },
    "papermill": {
     "duration": 0.05493,
     "end_time": "2020-12-15T23:40:07.230005",
     "exception": false,
     "start_time": "2020-12-15T23:40:07.175075",
     "status": "completed"
    },
    "tags": []
   },
   "outputs": [
    {
     "name": "stdout",
     "output_type": "stream",
     "text": [
      "Age            0\n",
      "Sex            0\n",
      "BP             0\n",
      "Cholesterol    0\n",
      "Na_to_K        0\n",
      "Drug           0\n",
      "dtype: int64\n",
      "------------------------\n",
      "Age            0\n",
      "Sex            0\n",
      "BP             0\n",
      "Cholesterol    0\n",
      "Na_to_K        0\n",
      "Drug           0\n",
      "dtype: int64\n"
     ]
    }
   ],
   "source": [
    "print(drug.isna().sum())\n",
    "print(\"------------------------\")\n",
    "print(drug.isnull().sum())"
   ]
  },
  {
   "cell_type": "code",
   "execution_count": 5,
   "metadata": {
    "execution": {
     "iopub.execute_input": "2020-12-15T23:40:07.335994Z",
     "iopub.status.busy": "2020-12-15T23:40:07.335246Z",
     "iopub.status.idle": "2020-12-15T23:40:07.346938Z",
     "shell.execute_reply": "2020-12-15T23:40:07.347438Z"
    },
    "papermill": {
     "duration": 0.072858,
     "end_time": "2020-12-15T23:40:07.347589",
     "exception": false,
     "start_time": "2020-12-15T23:40:07.274731",
     "status": "completed"
    },
    "tags": []
   },
   "outputs": [
    {
     "name": "stdout",
     "output_type": "stream",
     "text": [
      "<class 'pandas.core.frame.DataFrame'>\n",
      "RangeIndex: 200 entries, 0 to 199\n",
      "Data columns (total 6 columns):\n",
      " #   Column       Non-Null Count  Dtype  \n",
      "---  ------       --------------  -----  \n",
      " 0   Age          200 non-null    int64  \n",
      " 1   Sex          200 non-null    object \n",
      " 2   BP           200 non-null    object \n",
      " 3   Cholesterol  200 non-null    object \n",
      " 4   Na_to_K      200 non-null    float64\n",
      " 5   Drug         200 non-null    object \n",
      "dtypes: float64(1), int64(1), object(4)\n",
      "memory usage: 9.5+ KB\n",
      "None\n",
      "===========================\n",
      "              Age     Na_to_K\n",
      "count  200.000000  200.000000\n",
      "mean    44.315000   16.084485\n",
      "std     16.544315    7.223956\n",
      "min     15.000000    6.269000\n",
      "25%     31.000000   10.445500\n",
      "50%     45.000000   13.936500\n",
      "75%     58.000000   19.380000\n",
      "max     74.000000   38.247000\n"
     ]
    }
   ],
   "source": [
    "print(drug.info())\n",
    "print('===========================')\n",
    "print(drug.describe())"
   ]
  },
  {
   "cell_type": "markdown",
   "metadata": {
    "papermill": {
     "duration": 0.042541,
     "end_time": "2020-12-15T23:40:07.432213",
     "exception": false,
     "start_time": "2020-12-15T23:40:07.389672",
     "status": "completed"
    },
    "tags": []
   },
   "source": [
    "## Graph Drug->Count"
   ]
  },
  {
   "cell_type": "code",
   "execution_count": 6,
   "metadata": {
    "execution": {
     "iopub.execute_input": "2020-12-15T23:40:07.524323Z",
     "iopub.status.busy": "2020-12-15T23:40:07.523623Z",
     "iopub.status.idle": "2020-12-15T23:40:07.763681Z",
     "shell.execute_reply": "2020-12-15T23:40:07.763002Z"
    },
    "papermill": {
     "duration": 0.28872,
     "end_time": "2020-12-15T23:40:07.763796",
     "exception": false,
     "start_time": "2020-12-15T23:40:07.475076",
     "status": "completed"
    },
    "tags": []
   },
   "outputs": [
    {
     "data": {
      "image/png": "[encoded data removed]",
      "text/plain": [
       "<Figure size 648x360 with 1 Axes>"
      ]
     },
     "metadata": {},
     "output_type": "display_data"
    }
   ],
   "source": [
    "drug.Drug.value_counts()\n",
    "\n",
    "plt.figure(figsize=(9,5))\n",
    "\n",
    "sns.countplot(drug.Drug)\n",
    "plt.title('Count-Drug')\n",
    "plt.show()"
   ]
  },
  {
   "cell_type": "markdown",
   "metadata": {
    "papermill": {
     "duration": 0.043502,
     "end_time": "2020-12-15T23:40:07.850944",
     "exception": false,
     "start_time": "2020-12-15T23:40:07.807442",
     "status": "completed"
    },
    "tags": []
   },
   "source": [
    "## Graph Sex->Count"
   ]
  },
  {
   "cell_type": "code",
   "execution_count": 7,
   "metadata": {
    "execution": {
     "iopub.execute_input": "2020-12-15T23:40:07.962544Z",
     "iopub.status.busy": "2020-12-15T23:40:07.951932Z",
     "iopub.status.idle": "2020-12-15T23:40:08.091371Z",
     "shell.execute_reply": "2020-12-15T23:40:08.090796Z"
    },
    "papermill": {
     "duration": 0.197296,
     "end_time": "2020-12-15T23:40:08.091486",
     "exception": false,
     "start_time": "2020-12-15T23:40:07.894190",
     "status": "completed"
    },
    "tags": []
   },
   "outputs": [
    {
     "data": {
      "image/png": "[encoded data removed]",
      "text/plain": [
       "<Figure size 648x360 with 1 Axes>"
      ]
     },
     "metadata": {},
     "output_type": "display_data"
    }
   ],
   "source": [
    "plt.figure(figsize=(9,5))\n",
    "\n",
    "sns.countplot(drug.Sex)\n",
    "plt.title('Count-Sex')\n",
    "plt.show()"
   ]
  },
  {
   "cell_type": "markdown",
   "metadata": {
    "papermill": {
     "duration": 0.048501,
     "end_time": "2020-12-15T23:40:08.184171",
     "exception": false,
     "start_time": "2020-12-15T23:40:08.135670",
     "status": "completed"
    },
    "tags": []
   },
   "source": [
    "## Graph Age->Dist"
   ]
  },
  {
   "cell_type": "code",
   "execution_count": 8,
   "metadata": {
    "execution": {
     "iopub.execute_input": "2020-12-15T23:40:08.285389Z",
     "iopub.status.busy": "2020-12-15T23:40:08.280292Z",
     "iopub.status.idle": "2020-12-15T23:40:08.604487Z",
     "shell.execute_reply": "2020-12-15T23:40:08.603785Z"
    },
    "papermill": {
     "duration": 0.376218,
     "end_time": "2020-12-15T23:40:08.604602",
     "exception": false,
     "start_time": "2020-12-15T23:40:08.228384",
     "status": "completed"
    },
    "tags": []
   },
   "outputs": [
    {
     "name": "stdout",
     "output_type": "stream",
     "text": [
      "Age-min: 15\n",
      "Age-max: 74\n"
     ]
    },
    {
     "data": {
      "image/png": "[encoded data removed]",
      "text/plain": [
       "<Figure size 648x360 with 1 Axes>"
      ]
     },
     "metadata": {},
     "output_type": "display_data"
    }
   ],
   "source": [
    "plt.figure(figsize=(9,5))\n",
    "\n",
    "print('Age-min: {}'.format(drug.Age.min()))\n",
    "print('Age-max: {}'.format(drug.Age.max()))\n",
    "\n",
    "sns.distplot(drug.Age)\n",
    "plt.title('Dist-Age')\n",
    "plt.show()"
   ]
  },
  {
   "cell_type": "markdown",
   "metadata": {
    "papermill": {
     "duration": 0.045797,
     "end_time": "2020-12-15T23:40:08.696905",
     "exception": false,
     "start_time": "2020-12-15T23:40:08.651108",
     "status": "completed"
    },
    "tags": []
   },
   "source": [
    "## Graph BP->Count"
   ]
  },
  {
   "cell_type": "code",
   "execution_count": 9,
   "metadata": {
    "execution": {
     "iopub.execute_input": "2020-12-15T23:40:08.807507Z",
     "iopub.status.busy": "2020-12-15T23:40:08.801221Z",
     "iopub.status.idle": "2020-12-15T23:40:08.970491Z",
     "shell.execute_reply": "2020-12-15T23:40:08.969821Z"
    },
    "papermill": {
     "duration": 0.226917,
     "end_time": "2020-12-15T23:40:08.970627",
     "exception": false,
     "start_time": "2020-12-15T23:40:08.743710",
     "status": "completed"
    },
    "tags": []
   },
   "outputs": [
    {
     "name": "stdout",
     "output_type": "stream",
     "text": [
      "HIGH      77\n",
      "LOW       64\n",
      "NORMAL    59\n",
      "Name: BP, dtype: int64\n"
     ]
    },
    {
     "data": {
      "image/png": "[encoded data removed]",
      "text/plain": [
       "<Figure size 648x360 with 1 Axes>"
      ]
     },
     "metadata": {},
     "output_type": "display_data"
    }
   ],
   "source": [
    "print(drug.BP.value_counts())\n",
    "\n",
    "plt.figure(figsize=(9,5))\n",
    "\n",
    "sns.countplot(drug.BP)\n",
    "plt.title('BP-Count')\n",
    "plt.show()"
   ]
  },
  {
   "cell_type": "markdown",
   "metadata": {
    "papermill": {
     "duration": 0.046751,
     "end_time": "2020-12-15T23:40:09.064481",
     "exception": false,
     "start_time": "2020-12-15T23:40:09.017730",
     "status": "completed"
    },
    "tags": []
   },
   "source": [
    "## Graph Na_to_K->Dist"
   ]
  },
  {
   "cell_type": "code",
   "execution_count": 10,
   "metadata": {
    "execution": {
     "iopub.execute_input": "2020-12-15T23:40:09.174930Z",
     "iopub.status.busy": "2020-12-15T23:40:09.173709Z",
     "iopub.status.idle": "2020-12-15T23:40:09.490924Z",
     "shell.execute_reply": "2020-12-15T23:40:09.490391Z"
    },
    "papermill": {
     "duration": 0.37973,
     "end_time": "2020-12-15T23:40:09.491075",
     "exception": false,
     "start_time": "2020-12-15T23:40:09.111345",
     "status": "completed"
    },
    "tags": []
   },
   "outputs": [
    {
     "name": "stdout",
     "output_type": "stream",
     "text": [
      "Na_to_K min: 6.269\n",
      "Na_to_K max: 38.247\n"
     ]
    },
    {
     "data": {
      "image/png": "[encoded data removed]",
      "text/plain": [
       "<Figure size 648x360 with 1 Axes>"
      ]
     },
     "metadata": {},
     "output_type": "display_data"
    }
   ],
   "source": [
    "plt.figure(figsize=(9,5))\n",
    "\n",
    "print('Na_to_K min: {}'.format(drug.Na_to_K.min()))\n",
    "print('Na_to_K max: {}'.format(drug.Na_to_K.max()))\n",
    "\n",
    "sns.distplot(drug.Na_to_K)\n",
    "plt.title('Dist-Na_to_K')\n",
    "plt.show()"
   ]
  },
  {
   "cell_type": "markdown",
   "metadata": {
    "papermill": {
     "duration": 0.049107,
     "end_time": "2020-12-15T23:40:09.589366",
     "exception": false,
     "start_time": "2020-12-15T23:40:09.540259",
     "status": "completed"
    },
    "tags": []
   },
   "source": [
    "## Graph Cholesterol->Count"
   ]
  },
  {
   "cell_type": "code",
   "execution_count": 11,
   "metadata": {
    "execution": {
     "iopub.execute_input": "2020-12-15T23:40:09.694618Z",
     "iopub.status.busy": "2020-12-15T23:40:09.693578Z",
     "iopub.status.idle": "2020-12-15T23:40:09.838976Z",
     "shell.execute_reply": "2020-12-15T23:40:09.838377Z"
    },
    "papermill": {
     "duration": 0.200916,
     "end_time": "2020-12-15T23:40:09.839107",
     "exception": false,
     "start_time": "2020-12-15T23:40:09.638191",
     "status": "completed"
    },
    "tags": []
   },
   "outputs": [
    {
     "name": "stdout",
     "output_type": "stream",
     "text": [
      "HIGH      103\n",
      "NORMAL     97\n",
      "Name: Cholesterol, dtype: int64\n"
     ]
    },
    {
     "data": {
      "image/png": "[encoded data removed]",
      "text/plain": [
       "<Figure size 648x360 with 1 Axes>"
      ]
     },
     "metadata": {},
     "output_type": "display_data"
    }
   ],
   "source": [
    "print(drug.Cholesterol.value_counts())\n",
    "\n",
    "plt.figure(figsize=(9,5))\n",
    "\n",
    "sns.countplot(drug.Cholesterol)\n",
    "plt.title('Count-Cholesterol')\n",
    "plt.show()\n"
   ]
  },
  {
   "cell_type": "markdown",
   "metadata": {
    "papermill": {
     "duration": 0.049374,
     "end_time": "2020-12-15T23:40:09.938741",
     "exception": false,
     "start_time": "2020-12-15T23:40:09.889367",
     "status": "completed"
    },
    "tags": []
   },
   "source": [
    "# Analysis all with Drug"
   ]
  },
  {
   "cell_type": "markdown",
   "metadata": {
    "papermill": {
     "duration": 0.049776,
     "end_time": "2020-12-15T23:40:10.039070",
     "exception": false,
     "start_time": "2020-12-15T23:40:09.989294",
     "status": "completed"
    },
    "tags": []
   },
   "source": [
    "## Graph Drug->Na_to_K"
   ]
  },
  {
   "cell_type": "code",
   "execution_count": 12,
   "metadata": {
    "execution": {
     "iopub.execute_input": "2020-12-15T23:40:10.252335Z",
     "iopub.status.busy": "2020-12-15T23:40:10.147351Z",
     "iopub.status.idle": "2020-12-15T23:40:10.530286Z",
     "shell.execute_reply": "2020-12-15T23:40:10.531331Z"
    },
    "papermill": {
     "duration": 0.443065,
     "end_time": "2020-12-15T23:40:10.531526",
     "exception": false,
     "start_time": "2020-12-15T23:40:10.088461",
     "status": "completed"
    },
    "tags": []
   },
   "outputs": [
    {
     "data": {
      "image/png": "[encoded data removed]",
      "text/plain": [
       "<Figure size 648x360 with 1 Axes>"
      ]
     },
     "metadata": {},
     "output_type": "display_data"
    },
    {
     "name": "stdout",
     "output_type": "stream",
     "text": [
      "min DrugY: 15.015\n"
     ]
    }
   ],
   "source": [
    "plt.figure(figsize=(9,5))\n",
    "\n",
    "sns.swarmplot(x='Drug', y='Na_to_K', data=drug)\n",
    "plt.title('Drug-Na_to_K')\n",
    "plt.show()\n",
    "\n",
    "print('min DrugY: {}'.format(drug.Na_to_K[drug.Drug == 'DrugY'].min()))\n",
    "\n",
    "\n",
    "# An important characteristic for DrugY"
   ]
  },
  {
   "cell_type": "markdown",
   "metadata": {
    "papermill": {
     "duration": 0.062711,
     "end_time": "2020-12-15T23:40:10.648083",
     "exception": false,
     "start_time": "2020-12-15T23:40:10.585372",
     "status": "completed"
    },
    "tags": []
   },
   "source": [
    "## Graph Drug->Age"
   ]
  },
  {
   "cell_type": "code",
   "execution_count": 13,
   "metadata": {
    "execution": {
     "iopub.execute_input": "2020-12-15T23:40:10.760981Z",
     "iopub.status.busy": "2020-12-15T23:40:10.758119Z",
     "iopub.status.idle": "2020-12-15T23:40:10.989106Z",
     "shell.execute_reply": "2020-12-15T23:40:10.990262Z"
    },
    "papermill": {
     "duration": 0.289719,
     "end_time": "2020-12-15T23:40:10.990501",
     "exception": false,
     "start_time": "2020-12-15T23:40:10.700782",
     "status": "completed"
    },
    "tags": []
   },
   "outputs": [
    {
     "data": {
      "image/png": "[encoded data removed]",
      "text/plain": [
       "<Figure size 648x360 with 1 Axes>"
      ]
     },
     "metadata": {},
     "output_type": "display_data"
    }
   ],
   "source": [
    "plt.figure(figsize=(9,5))\n",
    "\n",
    "sns.swarmplot(x='Drug', y='Age', data=drug)\n",
    "plt.title('Drug-Age')\n",
    "plt.show()\n",
    "\n",
    "#less important"
   ]
  },
  {
   "cell_type": "markdown",
   "metadata": {
    "papermill": {
     "duration": 0.058938,
     "end_time": "2020-12-15T23:40:11.108566",
     "exception": false,
     "start_time": "2020-12-15T23:40:11.049628",
     "status": "completed"
    },
    "tags": []
   },
   "source": [
    "## Graph Drug->Sex"
   ]
  },
  {
   "cell_type": "code",
   "execution_count": 14,
   "metadata": {
    "execution": {
     "iopub.execute_input": "2020-12-15T23:40:11.240168Z",
     "iopub.status.busy": "2020-12-15T23:40:11.236378Z",
     "iopub.status.idle": "2020-12-15T23:40:11.479232Z",
     "shell.execute_reply": "2020-12-15T23:40:11.478487Z"
    },
    "papermill": {
     "duration": 0.31145,
     "end_time": "2020-12-15T23:40:11.479359",
     "exception": false,
     "start_time": "2020-12-15T23:40:11.167909",
     "status": "completed"
    },
    "tags": []
   },
   "outputs": [
    {
     "data": {
      "image/png": "[encoded data removed]",
      "text/plain": [
       "<Figure size 648x360 with 1 Axes>"
      ]
     },
     "metadata": {},
     "output_type": "display_data"
    }
   ],
   "source": [
    "DrugSex = drug.groupby(['Drug', 'Sex']).size().reset_index(name='Count')\n",
    "\n",
    "plt.figure(figsize=(9,5))\n",
    "\n",
    "sns.barplot(x='Drug', y='Count', hue='Sex', data=DrugSex)\n",
    "plt.title('Drug-Sex')\n",
    "plt.show()\n",
    "\n",
    "# Nothing important"
   ]
  },
  {
   "cell_type": "markdown",
   "metadata": {
    "papermill": {
     "duration": 0.060168,
     "end_time": "2020-12-15T23:40:11.599917",
     "exception": false,
     "start_time": "2020-12-15T23:40:11.539749",
     "status": "completed"
    },
    "tags": []
   },
   "source": [
    "## Graph Drug->BP"
   ]
  },
  {
   "cell_type": "code",
   "execution_count": 15,
   "metadata": {
    "execution": {
     "iopub.execute_input": "2020-12-15T23:40:11.749749Z",
     "iopub.status.busy": "2020-12-15T23:40:11.744928Z",
     "iopub.status.idle": "2020-12-15T23:40:12.033506Z",
     "shell.execute_reply": "2020-12-15T23:40:12.032801Z"
    },
    "papermill": {
     "duration": 0.373401,
     "end_time": "2020-12-15T23:40:12.033670",
     "exception": false,
     "start_time": "2020-12-15T23:40:11.660269",
     "status": "completed"
    },
    "tags": []
   },
   "outputs": [
    {
     "data": {
      "image/png": "[encoded data removed]",
      "text/plain": [
       "<Figure size 648x360 with 1 Axes>"
      ]
     },
     "metadata": {},
     "output_type": "display_data"
    }
   ],
   "source": [
    "DrugBP = drug.groupby(['Drug', 'BP']).size().reset_index(name='Count')\n",
    "\n",
    "plt.figure(figsize=(9,5))\n",
    "\n",
    "sns.barplot(x='Drug', y='Count', hue='BP', data=DrugBP)\n",
    "plt.title('Drug-BP')\n",
    "plt.show()\n",
    "\n",
    "\n",
    "# Drugs A and B are only used by people with high blood pressure.\n",
    "# Drug C is only used by people with low blood pressure.\n",
    "# Drug X is not used for patients with high blood pressure.\n"
   ]
  },
  {
   "cell_type": "markdown",
   "metadata": {
    "papermill": {
     "duration": 0.054976,
     "end_time": "2020-12-15T23:40:12.143518",
     "exception": false,
     "start_time": "2020-12-15T23:40:12.088542",
     "status": "completed"
    },
    "tags": []
   },
   "source": [
    "## Graph Drug->Cholesterol"
   ]
  },
  {
   "cell_type": "code",
   "execution_count": 16,
   "metadata": {
    "execution": {
     "iopub.execute_input": "2020-12-15T23:40:12.281223Z",
     "iopub.status.busy": "2020-12-15T23:40:12.264963Z",
     "iopub.status.idle": "2020-12-15T23:40:12.504785Z",
     "shell.execute_reply": "2020-12-15T23:40:12.505306Z"
    },
    "papermill": {
     "duration": 0.307327,
     "end_time": "2020-12-15T23:40:12.505461",
     "exception": false,
     "start_time": "2020-12-15T23:40:12.198134",
     "status": "completed"
    },
    "tags": []
   },
   "outputs": [
    {
     "data": {
      "image/png": "[encoded data removed]",
      "text/plain": [
       "<Figure size 648x360 with 1 Axes>"
      ]
     },
     "metadata": {},
     "output_type": "display_data"
    }
   ],
   "source": [
    "DrugChol = drug.groupby(['Drug', 'Cholesterol']).size().reset_index(name='Count')\n",
    "\n",
    "plt.figure(figsize=(9,5))\n",
    "\n",
    "sns.barplot(x='Drug', y='Count', hue='Cholesterol', data=DrugChol)\n",
    "plt.title('Drug-Cholesterol')\n",
    "plt.show()\n",
    "\n",
    "# Drug C is only used for patients with high cholesterol.\n",
    "# The drugs (A, B, and Y) appear to be balanced.\n",
    "# Drug X is used in both cases, but more in patients with high cholesterol."
   ]
  },
  {
   "cell_type": "markdown",
   "metadata": {
    "papermill": {
     "duration": 0.055519,
     "end_time": "2020-12-15T23:40:12.617439",
     "exception": false,
     "start_time": "2020-12-15T23:40:12.561920",
     "status": "completed"
    },
    "tags": []
   },
   "source": [
    "# WE LOOK FOR RELATIONSHIPS BETWEEN VARIABLES"
   ]
  },
  {
   "cell_type": "markdown",
   "metadata": {
    "papermill": {
     "duration": 0.055143,
     "end_time": "2020-12-15T23:40:12.728302",
     "exception": false,
     "start_time": "2020-12-15T23:40:12.673159",
     "status": "completed"
    },
    "tags": []
   },
   "source": [
    "## Figure 1. Graph Drug->Na_to_K with Cholesterol\n",
    "## Figure 2. Graph Drug->Na_to_K with BP"
   ]
  },
  {
   "cell_type": "code",
   "execution_count": 17,
   "metadata": {
    "execution": {
     "iopub.execute_input": "2020-12-15T23:40:12.855495Z",
     "iopub.status.busy": "2020-12-15T23:40:12.854243Z",
     "iopub.status.idle": "2020-12-15T23:40:13.625965Z",
     "shell.execute_reply": "2020-12-15T23:40:13.625252Z"
    },
    "papermill": {
     "duration": 0.842469,
     "end_time": "2020-12-15T23:40:13.626086",
     "exception": false,
     "start_time": "2020-12-15T23:40:12.783617",
     "status": "completed"
    },
    "tags": []
   },
   "outputs": [
    {
     "data": {
      "image/png": "[encoded data removed]",
      "text/plain": [
       "<Figure size 936x720 with 2 Axes>"
      ]
     },
     "metadata": {},
     "output_type": "display_data"
    }
   ],
   "source": [
    "plt.figure(figsize=(13,10))\n",
    "\n",
    "plt.subplot(211)\n",
    "sns.swarmplot(x='Drug', y='Na_to_K', hue='Cholesterol', data=drug)\n",
    "plt.title('Drug-Na_to_K-Cholesterol')\n",
    "plt.subplot(212)\n",
    "sns.swarmplot(x='Drug', y='Na_to_K', hue='BP', data=drug)\n",
    "plt.title('Drug-Na_to_K-BP')\n",
    "\n",
    "plt.show()\n",
    "\n",
    "\n",
    "# Drug C is used only for people with high cholesterol and low blood pressure.\n",
    "# We create a new column where the value will be 0 if Na_to_K is less than 15.015 and 1 if it is greater than this value.\n",
    "# Na_to_k is very important\n"
   ]
  },
  {
   "cell_type": "markdown",
   "metadata": {
    "papermill": {
     "duration": 0.057396,
     "end_time": "2020-12-15T23:40:13.741155",
     "exception": false,
     "start_time": "2020-12-15T23:40:13.683759",
     "status": "completed"
    },
    "tags": []
   },
   "source": [
    "## We can create a new variable with the information from the Na_to_K column"
   ]
  },
  {
   "cell_type": "markdown",
   "metadata": {
    "papermill": {
     "duration": 0.05785,
     "end_time": "2020-12-15T23:40:13.856463",
     "exception": false,
     "start_time": "2020-12-15T23:40:13.798613",
     "status": "completed"
    },
    "tags": []
   },
   "source": [
    "### 0 <- if it is less than 15,015\n",
    "### 1 <- if it is greater than 15,015"
   ]
  },
  {
   "cell_type": "code",
   "execution_count": 18,
   "metadata": {
    "execution": {
     "iopub.execute_input": "2020-12-15T23:40:13.987717Z",
     "iopub.status.busy": "2020-12-15T23:40:13.986796Z",
     "iopub.status.idle": "2020-12-15T23:40:13.990622Z",
     "shell.execute_reply": "2020-12-15T23:40:13.989902Z"
    },
    "papermill": {
     "duration": 0.076447,
     "end_time": "2020-12-15T23:40:13.990747",
     "exception": false,
     "start_time": "2020-12-15T23:40:13.914300",
     "status": "completed"
    },
    "tags": []
   },
   "outputs": [
    {
     "data": {
      "text/html": [
       "<div>\n",
       "<style scoped>\n",
       "    .dataframe tbody tr th:only-of-type {\n",
       "        vertical-align: middle;\n",
       "    }\n",
       "\n",
       "    .dataframe tbody tr th {\n",
       "        vertical-align: top;\n",
       "    }\n",
       "\n",
       "    .dataframe thead th {\n",
       "        text-align: right;\n",
       "    }\n",
       "</style>\n",
       "<table border=\"1\" class=\"dataframe\">\n",
       "  <thead>\n",
       "    <tr style=\"text-align: right;\">\n",
       "      <th></th>\n",
       "      <th>Age</th>\n",
       "      <th>Sex</th>\n",
       "      <th>BP</th>\n",
       "      <th>Cholesterol</th>\n",
       "      <th>Na_to_K</th>\n",
       "      <th>Drug</th>\n",
       "      <th>GreaterNa15</th>\n",
       "    </tr>\n",
       "  </thead>\n",
       "  <tbody>\n",
       "    <tr>\n",
       "      <th>0</th>\n",
       "      <td>23</td>\n",
       "      <td>F</td>\n",
       "      <td>HIGH</td>\n",
       "      <td>HIGH</td>\n",
       "      <td>25.355</td>\n",
       "      <td>DrugY</td>\n",
       "      <td>1</td>\n",
       "    </tr>\n",
       "    <tr>\n",
       "      <th>1</th>\n",
       "      <td>47</td>\n",
       "      <td>M</td>\n",
       "      <td>LOW</td>\n",
       "      <td>HIGH</td>\n",
       "      <td>13.093</td>\n",
       "      <td>drugC</td>\n",
       "      <td>0</td>\n",
       "    </tr>\n",
       "    <tr>\n",
       "      <th>2</th>\n",
       "      <td>47</td>\n",
       "      <td>M</td>\n",
       "      <td>LOW</td>\n",
       "      <td>HIGH</td>\n",
       "      <td>10.114</td>\n",
       "      <td>drugC</td>\n",
       "      <td>0</td>\n",
       "    </tr>\n",
       "    <tr>\n",
       "      <th>3</th>\n",
       "      <td>28</td>\n",
       "      <td>F</td>\n",
       "      <td>NORMAL</td>\n",
       "      <td>HIGH</td>\n",
       "      <td>7.798</td>\n",
       "      <td>drugX</td>\n",
       "      <td>0</td>\n",
       "    </tr>\n",
       "    <tr>\n",
       "      <th>4</th>\n",
       "      <td>61</td>\n",
       "      <td>F</td>\n",
       "      <td>LOW</td>\n",
       "      <td>HIGH</td>\n",
       "      <td>18.043</td>\n",
       "      <td>DrugY</td>\n",
       "      <td>1</td>\n",
       "    </tr>\n",
       "  </tbody>\n",
       "</table>\n",
       "</div>"
      ],
      "text/plain": [
       "   Age Sex      BP Cholesterol  Na_to_K   Drug  GreaterNa15\n",
       "0   23   F    HIGH        HIGH   25.355  DrugY            1\n",
       "1   47   M     LOW        HIGH   13.093  drugC            0\n",
       "2   47   M     LOW        HIGH   10.114  drugC            0\n",
       "3   28   F  NORMAL        HIGH    7.798  drugX            0\n",
       "4   61   F     LOW        HIGH   18.043  DrugY            1"
      ]
     },
     "execution_count": 18,
     "metadata": {},
     "output_type": "execute_result"
    }
   ],
   "source": [
    "drug['GreaterNa15'] = [1 if i >= 15.015 else 0 for i in drug.Na_to_K]\n",
    "\n",
    "drug.head()"
   ]
  },
  {
   "cell_type": "markdown",
   "metadata": {
    "papermill": {
     "duration": 0.058047,
     "end_time": "2020-12-15T23:40:14.110683",
     "exception": false,
     "start_time": "2020-12-15T23:40:14.052636",
     "status": "completed"
    },
    "tags": []
   },
   "source": [
    "## Graph New Column Drug->GreaterNa15"
   ]
  },
  {
   "cell_type": "code",
   "execution_count": 19,
   "metadata": {
    "execution": {
     "iopub.execute_input": "2020-12-15T23:40:14.240998Z",
     "iopub.status.busy": "2020-12-15T23:40:14.238453Z",
     "iopub.status.idle": "2020-12-15T23:40:14.517224Z",
     "shell.execute_reply": "2020-12-15T23:40:14.516356Z"
    },
    "papermill": {
     "duration": 0.347894,
     "end_time": "2020-12-15T23:40:14.517345",
     "exception": false,
     "start_time": "2020-12-15T23:40:14.169451",
     "status": "completed"
    },
    "tags": []
   },
   "outputs": [
    {
     "data": {
      "image/png": "[encoded data removed]",
      "text/plain": [
       "<Figure size 648x360 with 1 Axes>"
      ]
     },
     "metadata": {},
     "output_type": "display_data"
    }
   ],
   "source": [
    "DrugGreater = drug.groupby(['Drug','GreaterNa15']).size().reset_index(name='Count')\n",
    "\n",
    "plt.figure(figsize=(9,5))\n",
    "\n",
    "sns.barplot(x='Drug', y='Count', hue='GreaterNa15', data = DrugGreater)\n",
    "plt.title('Drug-GreaterNa15')\n",
    "plt.show()"
   ]
  },
  {
   "cell_type": "markdown",
   "metadata": {
    "papermill": {
     "duration": 0.058862,
     "end_time": "2020-12-15T23:40:14.635807",
     "exception": false,
     "start_time": "2020-12-15T23:40:14.576945",
     "status": "completed"
    },
    "tags": []
   },
   "source": [
    "# Imputer data"
   ]
  },
  {
   "cell_type": "code",
   "execution_count": 20,
   "metadata": {
    "execution": {
     "iopub.execute_input": "2020-12-15T23:40:14.757153Z",
     "iopub.status.busy": "2020-12-15T23:40:14.756411Z",
     "iopub.status.idle": "2020-12-15T23:40:15.065065Z",
     "shell.execute_reply": "2020-12-15T23:40:15.064362Z"
    },
    "papermill": {
     "duration": 0.370498,
     "end_time": "2020-12-15T23:40:15.065183",
     "exception": false,
     "start_time": "2020-12-15T23:40:14.694685",
     "status": "completed"
    },
    "tags": []
   },
   "outputs": [],
   "source": [
    "from sklearn.impute import SimpleImputer\n",
    "\n",
    "def impute(value, imp, dta):\n",
    "    \n",
    "    for i, j in zip(value, imp):\n",
    "        \n",
    "        impt = SimpleImputer(missing_values=i, strategy='constant', fill_value=j)\n",
    "        \n",
    "        impt.fit(drug[dta][:, np.newaxis])\n",
    "        \n",
    "        drug[dta] = impt.transform(drug[dta][:, np.newaxis])\n",
    "        \n",
    "    drug[dta] = drug[dta].astype(int)\n",
    "    \n",
    "    "
   ]
  },
  {
   "cell_type": "markdown",
   "metadata": {
    "papermill": {
     "duration": 0.058847,
     "end_time": "2020-12-15T23:40:15.183583",
     "exception": false,
     "start_time": "2020-12-15T23:40:15.124736",
     "status": "completed"
    },
    "tags": []
   },
   "source": [
    "### Values we use to impute"
   ]
  },
  {
   "cell_type": "markdown",
   "metadata": {
    "papermill": {
     "duration": 0.059788,
     "end_time": "2020-12-15T23:40:15.302871",
     "exception": false,
     "start_time": "2020-12-15T23:40:15.243083",
     "status": "completed"
    },
    "tags": []
   },
   "source": [
    "### run only once"
   ]
  },
  {
   "cell_type": "code",
   "execution_count": 21,
   "metadata": {
    "execution": {
     "iopub.execute_input": "2020-12-15T23:40:15.435525Z",
     "iopub.status.busy": "2020-12-15T23:40:15.434487Z",
     "iopub.status.idle": "2020-12-15T23:40:15.438531Z",
     "shell.execute_reply": "2020-12-15T23:40:15.439079Z"
    },
    "papermill": {
     "duration": 0.07718,
     "end_time": "2020-12-15T23:40:15.439230",
     "exception": false,
     "start_time": "2020-12-15T23:40:15.362050",
     "status": "completed"
    },
    "tags": []
   },
   "outputs": [
    {
     "name": "stderr",
     "output_type": "stream",
     "text": [
      "/opt/conda/lib/python3.7/site-packages/ipykernel_launcher.py:9: FutureWarning: Support for multi-dimensional indexing (e.g. `obj[:, None]`) is deprecated and will be removed in a future version.  Convert to a numpy array before indexing instead.\n",
      "  if __name__ == '__main__':\n",
      "/opt/conda/lib/python3.7/site-packages/ipykernel_launcher.py:11: FutureWarning: Support for multi-dimensional indexing (e.g. `obj[:, None]`) is deprecated and will be removed in a future version.  Convert to a numpy array before indexing instead.\n",
      "  # This is added back by InteractiveShellApp.init_path()\n",
      "/opt/conda/lib/python3.7/site-packages/ipykernel_launcher.py:9: FutureWarning: Support for multi-dimensional indexing (e.g. `obj[:, None]`) is deprecated and will be removed in a future version.  Convert to a numpy array before indexing instead.\n",
      "  if __name__ == '__main__':\n",
      "/opt/conda/lib/python3.7/site-packages/ipykernel_launcher.py:11: FutureWarning: Support for multi-dimensional indexing (e.g. `obj[:, None]`) is deprecated and will be removed in a future version.  Convert to a numpy array before indexing instead.\n",
      "  # This is added back by InteractiveShellApp.init_path()\n",
      "/opt/conda/lib/python3.7/site-packages/ipykernel_launcher.py:9: FutureWarning: Support for multi-dimensional indexing (e.g. `obj[:, None]`) is deprecated and will be removed in a future version.  Convert to a numpy array before indexing instead.\n",
      "  if __name__ == '__main__':\n",
      "/opt/conda/lib/python3.7/site-packages/ipykernel_launcher.py:11: FutureWarning: Support for multi-dimensional indexing (e.g. `obj[:, None]`) is deprecated and will be removed in a future version.  Convert to a numpy array before indexing instead.\n",
      "  # This is added back by InteractiveShellApp.init_path()\n",
      "/opt/conda/lib/python3.7/site-packages/ipykernel_launcher.py:9: FutureWarning: Support for multi-dimensional indexing (e.g. `obj[:, None]`) is deprecated and will be removed in a future version.  Convert to a numpy array before indexing instead.\n",
      "  if __name__ == '__main__':\n",
      "/opt/conda/lib/python3.7/site-packages/ipykernel_launcher.py:11: FutureWarning: Support for multi-dimensional indexing (e.g. `obj[:, None]`) is deprecated and will be removed in a future version.  Convert to a numpy array before indexing instead.\n",
      "  # This is added back by InteractiveShellApp.init_path()\n",
      "/opt/conda/lib/python3.7/site-packages/ipykernel_launcher.py:9: FutureWarning: Support for multi-dimensional indexing (e.g. `obj[:, None]`) is deprecated and will be removed in a future version.  Convert to a numpy array before indexing instead.\n",
      "  if __name__ == '__main__':\n",
      "/opt/conda/lib/python3.7/site-packages/ipykernel_launcher.py:11: FutureWarning: Support for multi-dimensional indexing (e.g. `obj[:, None]`) is deprecated and will be removed in a future version.  Convert to a numpy array before indexing instead.\n",
      "  # This is added back by InteractiveShellApp.init_path()\n"
     ]
    }
   ],
   "source": [
    "feature = ['BP', 'Cholesterol']\n",
    "Vimp = [[0,1,2],[0,1]]\n",
    "Val = [['LOW','NORMAL','HIGH'],['NORMAL', 'HIGH']]\n",
    "\n",
    "def imp(value, imput, feature):\n",
    "    \n",
    "    for i, j in enumerate(feature):\n",
    "        \n",
    "        impute(value[i], imput[i], j)\n",
    "    \n",
    "imp(Val, Vimp, feature)"
   ]
  },
  {
   "cell_type": "code",
   "execution_count": 22,
   "metadata": {
    "execution": {
     "iopub.execute_input": "2020-12-15T23:40:15.574530Z",
     "iopub.status.busy": "2020-12-15T23:40:15.573505Z",
     "iopub.status.idle": "2020-12-15T23:40:15.578053Z",
     "shell.execute_reply": "2020-12-15T23:40:15.577325Z"
    },
    "papermill": {
     "duration": 0.07858,
     "end_time": "2020-12-15T23:40:15.578177",
     "exception": false,
     "start_time": "2020-12-15T23:40:15.499597",
     "status": "completed"
    },
    "tags": []
   },
   "outputs": [
    {
     "data": {
      "text/html": [
       "<div>\n",
       "<style scoped>\n",
       "    .dataframe tbody tr th:only-of-type {\n",
       "        vertical-align: middle;\n",
       "    }\n",
       "\n",
       "    .dataframe tbody tr th {\n",
       "        vertical-align: top;\n",
       "    }\n",
       "\n",
       "    .dataframe thead th {\n",
       "        text-align: right;\n",
       "    }\n",
       "</style>\n",
       "<table border=\"1\" class=\"dataframe\">\n",
       "  <thead>\n",
       "    <tr style=\"text-align: right;\">\n",
       "      <th></th>\n",
       "      <th>Age</th>\n",
       "      <th>Sex</th>\n",
       "      <th>BP</th>\n",
       "      <th>Cholesterol</th>\n",
       "      <th>Na_to_K</th>\n",
       "      <th>Drug</th>\n",
       "      <th>GreaterNa15</th>\n",
       "    </tr>\n",
       "  </thead>\n",
       "  <tbody>\n",
       "    <tr>\n",
       "      <th>0</th>\n",
       "      <td>23</td>\n",
       "      <td>F</td>\n",
       "      <td>2</td>\n",
       "      <td>1</td>\n",
       "      <td>25.355</td>\n",
       "      <td>DrugY</td>\n",
       "      <td>1</td>\n",
       "    </tr>\n",
       "    <tr>\n",
       "      <th>1</th>\n",
       "      <td>47</td>\n",
       "      <td>M</td>\n",
       "      <td>0</td>\n",
       "      <td>1</td>\n",
       "      <td>13.093</td>\n",
       "      <td>drugC</td>\n",
       "      <td>0</td>\n",
       "    </tr>\n",
       "    <tr>\n",
       "      <th>2</th>\n",
       "      <td>47</td>\n",
       "      <td>M</td>\n",
       "      <td>0</td>\n",
       "      <td>1</td>\n",
       "      <td>10.114</td>\n",
       "      <td>drugC</td>\n",
       "      <td>0</td>\n",
       "    </tr>\n",
       "    <tr>\n",
       "      <th>3</th>\n",
       "      <td>28</td>\n",
       "      <td>F</td>\n",
       "      <td>1</td>\n",
       "      <td>1</td>\n",
       "      <td>7.798</td>\n",
       "      <td>drugX</td>\n",
       "      <td>0</td>\n",
       "    </tr>\n",
       "    <tr>\n",
       "      <th>4</th>\n",
       "      <td>61</td>\n",
       "      <td>F</td>\n",
       "      <td>0</td>\n",
       "      <td>1</td>\n",
       "      <td>18.043</td>\n",
       "      <td>DrugY</td>\n",
       "      <td>1</td>\n",
       "    </tr>\n",
       "  </tbody>\n",
       "</table>\n",
       "</div>"
      ],
      "text/plain": [
       "   Age Sex  BP  Cholesterol  Na_to_K   Drug  GreaterNa15\n",
       "0   23   F   2            1   25.355  DrugY            1\n",
       "1   47   M   0            1   13.093  drugC            0\n",
       "2   47   M   0            1   10.114  drugC            0\n",
       "3   28   F   1            1    7.798  drugX            0\n",
       "4   61   F   0            1   18.043  DrugY            1"
      ]
     },
     "execution_count": 22,
     "metadata": {},
     "output_type": "execute_result"
    }
   ],
   "source": [
    "drug.head()"
   ]
  },
  {
   "cell_type": "markdown",
   "metadata": {
    "papermill": {
     "duration": 0.067606,
     "end_time": "2020-12-15T23:40:15.714176",
     "exception": false,
     "start_time": "2020-12-15T23:40:15.646570",
     "status": "completed"
    },
    "tags": []
   },
   "source": [
    "# Label Encoder"
   ]
  },
  {
   "cell_type": "code",
   "execution_count": 23,
   "metadata": {
    "execution": {
     "iopub.execute_input": "2020-12-15T23:40:15.857305Z",
     "iopub.status.busy": "2020-12-15T23:40:15.856597Z",
     "iopub.status.idle": "2020-12-15T23:40:15.859756Z",
     "shell.execute_reply": "2020-12-15T23:40:15.859248Z"
    },
    "papermill": {
     "duration": 0.074349,
     "end_time": "2020-12-15T23:40:15.859882",
     "exception": false,
     "start_time": "2020-12-15T23:40:15.785533",
     "status": "completed"
    },
    "tags": []
   },
   "outputs": [],
   "source": [
    "from sklearn.preprocessing import LabelEncoder\n",
    "\n",
    "def Encoder(feature):\n",
    "    \n",
    "    le = LabelEncoder()\n",
    "    \n",
    "    drug[feature] = le.fit_transform(drug[feature])\n"
   ]
  },
  {
   "cell_type": "markdown",
   "metadata": {
    "papermill": {
     "duration": 0.060345,
     "end_time": "2020-12-15T23:40:15.981273",
     "exception": false,
     "start_time": "2020-12-15T23:40:15.920928",
     "status": "completed"
    },
    "tags": []
   },
   "source": [
    "### Encoder Drug"
   ]
  },
  {
   "cell_type": "code",
   "execution_count": 24,
   "metadata": {
    "execution": {
     "iopub.execute_input": "2020-12-15T23:40:16.110182Z",
     "iopub.status.busy": "2020-12-15T23:40:16.109108Z",
     "iopub.status.idle": "2020-12-15T23:40:16.120188Z",
     "shell.execute_reply": "2020-12-15T23:40:16.120799Z"
    },
    "papermill": {
     "duration": 0.078846,
     "end_time": "2020-12-15T23:40:16.120974",
     "exception": false,
     "start_time": "2020-12-15T23:40:16.042128",
     "status": "completed"
    },
    "tags": []
   },
   "outputs": [
    {
     "data": {
      "text/html": [
       "<div>\n",
       "<style scoped>\n",
       "    .dataframe tbody tr th:only-of-type {\n",
       "        vertical-align: middle;\n",
       "    }\n",
       "\n",
       "    .dataframe tbody tr th {\n",
       "        vertical-align: top;\n",
       "    }\n",
       "\n",
       "    .dataframe thead th {\n",
       "        text-align: right;\n",
       "    }\n",
       "</style>\n",
       "<table border=\"1\" class=\"dataframe\">\n",
       "  <thead>\n",
       "    <tr style=\"text-align: right;\">\n",
       "      <th></th>\n",
       "      <th>Age</th>\n",
       "      <th>Sex</th>\n",
       "      <th>BP</th>\n",
       "      <th>Cholesterol</th>\n",
       "      <th>Na_to_K</th>\n",
       "      <th>Drug</th>\n",
       "      <th>GreaterNa15</th>\n",
       "    </tr>\n",
       "  </thead>\n",
       "  <tbody>\n",
       "    <tr>\n",
       "      <th>0</th>\n",
       "      <td>23</td>\n",
       "      <td>F</td>\n",
       "      <td>2</td>\n",
       "      <td>1</td>\n",
       "      <td>25.355</td>\n",
       "      <td>0</td>\n",
       "      <td>1</td>\n",
       "    </tr>\n",
       "    <tr>\n",
       "      <th>1</th>\n",
       "      <td>47</td>\n",
       "      <td>M</td>\n",
       "      <td>0</td>\n",
       "      <td>1</td>\n",
       "      <td>13.093</td>\n",
       "      <td>3</td>\n",
       "      <td>0</td>\n",
       "    </tr>\n",
       "    <tr>\n",
       "      <th>2</th>\n",
       "      <td>47</td>\n",
       "      <td>M</td>\n",
       "      <td>0</td>\n",
       "      <td>1</td>\n",
       "      <td>10.114</td>\n",
       "      <td>3</td>\n",
       "      <td>0</td>\n",
       "    </tr>\n",
       "    <tr>\n",
       "      <th>3</th>\n",
       "      <td>28</td>\n",
       "      <td>F</td>\n",
       "      <td>1</td>\n",
       "      <td>1</td>\n",
       "      <td>7.798</td>\n",
       "      <td>4</td>\n",
       "      <td>0</td>\n",
       "    </tr>\n",
       "    <tr>\n",
       "      <th>4</th>\n",
       "      <td>61</td>\n",
       "      <td>F</td>\n",
       "      <td>0</td>\n",
       "      <td>1</td>\n",
       "      <td>18.043</td>\n",
       "      <td>0</td>\n",
       "      <td>1</td>\n",
       "    </tr>\n",
       "  </tbody>\n",
       "</table>\n",
       "</div>"
      ],
      "text/plain": [
       "   Age Sex  BP  Cholesterol  Na_to_K  Drug  GreaterNa15\n",
       "0   23   F   2            1   25.355     0            1\n",
       "1   47   M   0            1   13.093     3            0\n",
       "2   47   M   0            1   10.114     3            0\n",
       "3   28   F   1            1    7.798     4            0\n",
       "4   61   F   0            1   18.043     0            1"
      ]
     },
     "execution_count": 24,
     "metadata": {},
     "output_type": "execute_result"
    }
   ],
   "source": [
    "Encoder('Drug')\n",
    "\n",
    "drug.head()"
   ]
  },
  {
   "cell_type": "code",
   "execution_count": 25,
   "metadata": {
    "execution": {
     "iopub.execute_input": "2020-12-15T23:40:16.261918Z",
     "iopub.status.busy": "2020-12-15T23:40:16.260860Z",
     "iopub.status.idle": "2020-12-15T23:40:16.273647Z",
     "shell.execute_reply": "2020-12-15T23:40:16.274207Z"
    },
    "papermill": {
     "duration": 0.084418,
     "end_time": "2020-12-15T23:40:16.274371",
     "exception": false,
     "start_time": "2020-12-15T23:40:16.189953",
     "status": "completed"
    },
    "tags": []
   },
   "outputs": [
    {
     "name": "stdout",
     "output_type": "stream",
     "text": [
      "<class 'pandas.core.frame.DataFrame'>\n",
      "RangeIndex: 200 entries, 0 to 199\n",
      "Data columns (total 7 columns):\n",
      " #   Column       Non-Null Count  Dtype  \n",
      "---  ------       --------------  -----  \n",
      " 0   Age          200 non-null    int64  \n",
      " 1   Sex          200 non-null    object \n",
      " 2   BP           200 non-null    int64  \n",
      " 3   Cholesterol  200 non-null    int64  \n",
      " 4   Na_to_K      200 non-null    float64\n",
      " 5   Drug         200 non-null    int64  \n",
      " 6   GreaterNa15  200 non-null    int64  \n",
      "dtypes: float64(1), int64(5), object(1)\n",
      "memory usage: 11.1+ KB\n"
     ]
    }
   ],
   "source": [
    "drug.info()"
   ]
  },
  {
   "cell_type": "markdown",
   "metadata": {
    "papermill": {
     "duration": 0.061552,
     "end_time": "2020-12-15T23:40:16.404134",
     "exception": false,
     "start_time": "2020-12-15T23:40:16.342582",
     "status": "completed"
    },
    "tags": []
   },
   "source": [
    "# Graph Boxplot\n",
    "### we look for outliers"
   ]
  },
  {
   "cell_type": "code",
   "execution_count": 26,
   "metadata": {
    "execution": {
     "iopub.execute_input": "2020-12-15T23:40:16.532304Z",
     "iopub.status.busy": "2020-12-15T23:40:16.531307Z",
     "iopub.status.idle": "2020-12-15T23:40:16.819976Z",
     "shell.execute_reply": "2020-12-15T23:40:16.819353Z"
    },
    "papermill": {
     "duration": 0.354544,
     "end_time": "2020-12-15T23:40:16.820106",
     "exception": false,
     "start_time": "2020-12-15T23:40:16.465562",
     "status": "completed"
    },
    "tags": []
   },
   "outputs": [
    {
     "data": {
      "image/png": "[encoded data removed]",
      "text/plain": [
       "<Figure size 648x360 with 1 Axes>"
      ]
     },
     "metadata": {},
     "output_type": "display_data"
    }
   ],
   "source": [
    "def boxplot(dta):\n",
    "    \n",
    "    plt.figure(figsize=(9,5))\n",
    "    \n",
    "    sns.boxplot(drug[dta])\n",
    "    plt.title(dta)\n",
    "    plt.show()\n",
    "    \n",
    "boxplot('Na_to_K')\n",
    "\n",
    "# Outliers"
   ]
  },
  {
   "cell_type": "markdown",
   "metadata": {
    "papermill": {
     "duration": 0.063951,
     "end_time": "2020-12-15T23:40:16.948130",
     "exception": false,
     "start_time": "2020-12-15T23:40:16.884179",
     "status": "completed"
    },
    "tags": []
   },
   "source": [
    "## Removing outliers\n",
    "#### repeat the process as many times as necessary"
   ]
  },
  {
   "cell_type": "code",
   "execution_count": 27,
   "metadata": {
    "execution": {
     "iopub.execute_input": "2020-12-15T23:40:17.102120Z",
     "iopub.status.busy": "2020-12-15T23:40:17.097118Z",
     "iopub.status.idle": "2020-12-15T23:40:17.372673Z",
     "shell.execute_reply": "2020-12-15T23:40:17.371930Z"
    },
    "papermill": {
     "duration": 0.361997,
     "end_time": "2020-12-15T23:40:17.372795",
     "exception": false,
     "start_time": "2020-12-15T23:40:17.010798",
     "status": "completed"
    },
    "tags": []
   },
   "outputs": [
    {
     "name": "stdout",
     "output_type": "stream",
     "text": [
      "Min: 6.269\n",
      "Max: 38.247\n",
      "Quantile 25%: 10.445500000000001\n",
      "Median: 13.936499999999999\n",
      "Quantile 75%: 19.38\n",
      "Interquartile range: 8.934499999999998\n",
      "Lower quantile: 6.269\n",
      "Upper quantile: 32.781749999999995\n",
      "Shape: (192, 7)\n"
     ]
    },
    {
     "data": {
      "image/png": "[encoded data removed]",
      "text/plain": [
       "<Figure size 648x360 with 1 Axes>"
      ]
     },
     "metadata": {},
     "output_type": "display_data"
    }
   ],
   "source": [
    "# Removing outliers\n",
    "\n",
    "mn = np.min(drug.Na_to_K)\n",
    "mx = np.max(drug.Na_to_K)\n",
    "    \n",
    "Q1 = drug.Na_to_K.quantile(0.25)\n",
    "Q3 = drug.Na_to_K.quantile(0.75)\n",
    "median = drug.Na_to_K.median()\n",
    "IQR = Q3 - Q1\n",
    "    \n",
    "Qinf = Q1 - 1.5*IQR\n",
    "if Qinf < mn:\n",
    "        \n",
    "    Qinf = mn\n",
    "        \n",
    "Qsup = Q3 + 1.5*IQR\n",
    "if Qsup > mx:\n",
    "        \n",
    "    Qsup = mx\n",
    "        \n",
    "drug = drug[(drug.Na_to_K >= Qinf) & (drug.Na_to_K <= Qsup)]\n",
    "    \n",
    "print('Min: {}'.format(mn))\n",
    "print('Max: {}'.format(mx))\n",
    "print('Quantile 25%: {}'.format(Q1))\n",
    "print('Median: {}'.format(median))\n",
    "print('Quantile 75%: {}'.format(Q3))\n",
    "print('Interquartile range: {}'.format(IQR))\n",
    "print('Lower quantile: {}'.format(Qinf))\n",
    "print('Upper quantile: {}'.format(Qsup))\n",
    "print('Shape: {}'.format(drug.shape))\n",
    "    \n",
    "boxplot('Na_to_K')"
   ]
  },
  {
   "cell_type": "markdown",
   "metadata": {
    "papermill": {
     "duration": 0.063964,
     "end_time": "2020-12-15T23:40:17.507955",
     "exception": false,
     "start_time": "2020-12-15T23:40:17.443991",
     "status": "completed"
    },
    "tags": []
   },
   "source": [
    "# We prepare data for model training\n",
    "#### -without the sex column because it does not have important information"
   ]
  },
  {
   "cell_type": "code",
   "execution_count": 28,
   "metadata": {
    "execution": {
     "iopub.execute_input": "2020-12-15T23:40:17.646563Z",
     "iopub.status.busy": "2020-12-15T23:40:17.645566Z",
     "iopub.status.idle": "2020-12-15T23:40:17.649703Z",
     "shell.execute_reply": "2020-12-15T23:40:17.649166Z"
    },
    "papermill": {
     "duration": 0.077236,
     "end_time": "2020-12-15T23:40:17.649833",
     "exception": false,
     "start_time": "2020-12-15T23:40:17.572597",
     "status": "completed"
    },
    "tags": []
   },
   "outputs": [],
   "source": [
    "frame = [drug.Age, drug.BP, drug.Cholesterol, drug.Na_to_K, drug.GreaterNa15]\n",
    "\n",
    "X_data = pd.concat(frame, axis=1)\n",
    "y = drug.Drug.copy()\n"
   ]
  },
  {
   "cell_type": "markdown",
   "metadata": {
    "papermill": {
     "duration": 0.064601,
     "end_time": "2020-12-15T23:40:17.778980",
     "exception": false,
     "start_time": "2020-12-15T23:40:17.714379",
     "status": "completed"
    },
    "tags": []
   },
   "source": [
    "# Scaling Data\n",
    "## data = data / mean(data)"
   ]
  },
  {
   "cell_type": "code",
   "execution_count": 29,
   "metadata": {
    "execution": {
     "iopub.execute_input": "2020-12-15T23:40:17.915588Z",
     "iopub.status.busy": "2020-12-15T23:40:17.914824Z",
     "iopub.status.idle": "2020-12-15T23:40:17.933893Z",
     "shell.execute_reply": "2020-12-15T23:40:17.933111Z"
    },
    "papermill": {
     "duration": 0.088984,
     "end_time": "2020-12-15T23:40:17.934025",
     "exception": false,
     "start_time": "2020-12-15T23:40:17.845041",
     "status": "completed"
    },
    "tags": []
   },
   "outputs": [
    {
     "data": {
      "text/html": [
       "<div>\n",
       "<style scoped>\n",
       "    .dataframe tbody tr th:only-of-type {\n",
       "        vertical-align: middle;\n",
       "    }\n",
       "\n",
       "    .dataframe tbody tr th {\n",
       "        vertical-align: top;\n",
       "    }\n",
       "\n",
       "    .dataframe thead th {\n",
       "        text-align: right;\n",
       "    }\n",
       "</style>\n",
       "<table border=\"1\" class=\"dataframe\">\n",
       "  <thead>\n",
       "    <tr style=\"text-align: right;\">\n",
       "      <th></th>\n",
       "      <th>Age</th>\n",
       "      <th>BP</th>\n",
       "      <th>Cholesterol</th>\n",
       "      <th>Na_to_K</th>\n",
       "      <th>GreaterNa15</th>\n",
       "    </tr>\n",
       "  </thead>\n",
       "  <tbody>\n",
       "    <tr>\n",
       "      <th>0</th>\n",
       "      <td>0.518067</td>\n",
       "      <td>1.873171</td>\n",
       "      <td>1.939394</td>\n",
       "      <td>1.657985</td>\n",
       "      <td>2.313253</td>\n",
       "    </tr>\n",
       "    <tr>\n",
       "      <th>1</th>\n",
       "      <td>1.058658</td>\n",
       "      <td>0.000000</td>\n",
       "      <td>1.939394</td>\n",
       "      <td>0.856163</td>\n",
       "      <td>0.000000</td>\n",
       "    </tr>\n",
       "    <tr>\n",
       "      <th>2</th>\n",
       "      <td>1.058658</td>\n",
       "      <td>0.000000</td>\n",
       "      <td>1.939394</td>\n",
       "      <td>0.661363</td>\n",
       "      <td>0.000000</td>\n",
       "    </tr>\n",
       "    <tr>\n",
       "      <th>3</th>\n",
       "      <td>0.630690</td>\n",
       "      <td>0.936585</td>\n",
       "      <td>1.939394</td>\n",
       "      <td>0.509918</td>\n",
       "      <td>0.000000</td>\n",
       "    </tr>\n",
       "    <tr>\n",
       "      <th>4</th>\n",
       "      <td>1.374003</td>\n",
       "      <td>0.000000</td>\n",
       "      <td>1.939394</td>\n",
       "      <td>1.179847</td>\n",
       "      <td>2.313253</td>\n",
       "    </tr>\n",
       "  </tbody>\n",
       "</table>\n",
       "</div>"
      ],
      "text/plain": [
       "        Age        BP  Cholesterol   Na_to_K  GreaterNa15\n",
       "0  0.518067  1.873171     1.939394  1.657985     2.313253\n",
       "1  1.058658  0.000000     1.939394  0.856163     0.000000\n",
       "2  1.058658  0.000000     1.939394  0.661363     0.000000\n",
       "3  0.630690  0.936585     1.939394  0.509918     0.000000\n",
       "4  1.374003  0.000000     1.939394  1.179847     2.313253"
      ]
     },
     "execution_count": 29,
     "metadata": {},
     "output_type": "execute_result"
    }
   ],
   "source": [
    "# Data scaling\n",
    "\n",
    "X = X_data / np.mean(X_data)\n",
    "\n",
    "X.head()"
   ]
  },
  {
   "cell_type": "markdown",
   "metadata": {
    "papermill": {
     "duration": 0.070629,
     "end_time": "2020-12-15T23:40:18.078318",
     "exception": false,
     "start_time": "2020-12-15T23:40:18.007689",
     "status": "completed"
    },
    "tags": []
   },
   "source": [
    "# train_test_split and LogisticRegresion(parameters)"
   ]
  },
  {
   "cell_type": "code",
   "execution_count": 30,
   "metadata": {
    "execution": {
     "iopub.execute_input": "2020-12-15T23:40:18.219485Z",
     "iopub.status.busy": "2020-12-15T23:40:18.218418Z",
     "iopub.status.idle": "2020-12-15T23:40:18.368500Z",
     "shell.execute_reply": "2020-12-15T23:40:18.369061Z"
    },
    "papermill": {
     "duration": 0.225895,
     "end_time": "2020-12-15T23:40:18.369236",
     "exception": false,
     "start_time": "2020-12-15T23:40:18.143341",
     "status": "completed"
    },
    "tags": []
   },
   "outputs": [
    {
     "data": {
      "text/plain": [
       "LogisticRegression(C=0.67, multi_class='multinomial', random_state=34,\n",
       "                   solver='newton-cg')"
      ]
     },
     "execution_count": 30,
     "metadata": {},
     "output_type": "execute_result"
    }
   ],
   "source": [
    "from sklearn.model_selection import train_test_split\n",
    "from sklearn.linear_model import LogisticRegression\n",
    "\n",
    "X_train, X_test, y_train, y_test = train_test_split(X, y, test_size=0.4, random_state=23)\n",
    "\n",
    "lr = LogisticRegression(penalty='l2', C=0.67, solver='newton-cg', multi_class='multinomial', max_iter=100, random_state=34)\n",
    "lr.fit(X_train, y_train)\n"
   ]
  },
  {
   "cell_type": "markdown",
   "metadata": {
    "papermill": {
     "duration": 0.065171,
     "end_time": "2020-12-15T23:40:18.503399",
     "exception": false,
     "start_time": "2020-12-15T23:40:18.438228",
     "status": "completed"
    },
    "tags": []
   },
   "source": [
    "## Classification metric functions"
   ]
  },
  {
   "cell_type": "code",
   "execution_count": 31,
   "metadata": {
    "execution": {
     "iopub.execute_input": "2020-12-15T23:40:18.648102Z",
     "iopub.status.busy": "2020-12-15T23:40:18.647351Z",
     "iopub.status.idle": "2020-12-15T23:40:18.650768Z",
     "shell.execute_reply": "2020-12-15T23:40:18.650114Z"
    },
    "papermill": {
     "duration": 0.078822,
     "end_time": "2020-12-15T23:40:18.650956",
     "exception": false,
     "start_time": "2020-12-15T23:40:18.572134",
     "status": "completed"
    },
    "tags": []
   },
   "outputs": [],
   "source": [
    "from sklearn.metrics import confusion_matrix\n",
    "from sklearn.metrics import classification_report\n",
    "\n",
    "def ClasReport(model, y, X):\n",
    "    \n",
    "    pred = model.predict(X)\n",
    "    \n",
    "    cm_lr = confusion_matrix(y, pred)\n",
    "    \n",
    "    print(classification_report(y, pred))\n",
    "    \n",
    "    sns.heatmap(cm_lr, annot=True, cbar=False, cmap='Blues')\n",
    "    \n",
    "    plt.show()"
   ]
  },
  {
   "cell_type": "markdown",
   "metadata": {
    "papermill": {
     "duration": 0.064717,
     "end_time": "2020-12-15T23:40:18.780770",
     "exception": false,
     "start_time": "2020-12-15T23:40:18.716053",
     "status": "completed"
    },
    "tags": []
   },
   "source": [
    "## Print metrics"
   ]
  },
  {
   "cell_type": "code",
   "execution_count": 32,
   "metadata": {
    "execution": {
     "iopub.execute_input": "2020-12-15T23:40:18.934265Z",
     "iopub.status.busy": "2020-12-15T23:40:18.929248Z",
     "iopub.status.idle": "2020-12-15T23:40:19.323717Z",
     "shell.execute_reply": "2020-12-15T23:40:19.322993Z"
    },
    "papermill": {
     "duration": 0.478218,
     "end_time": "2020-12-15T23:40:19.323858",
     "exception": false,
     "start_time": "2020-12-15T23:40:18.845640",
     "status": "completed"
    },
    "tags": []
   },
   "outputs": [
    {
     "name": "stdout",
     "output_type": "stream",
     "text": [
      "\t\t\tScore TEST: 0.974025974025974\n",
      "              precision    recall  f1-score   support\n",
      "\n",
      "           0       1.00      1.00      1.00        29\n",
      "           1       1.00      0.87      0.93        15\n",
      "           2       0.90      1.00      0.95         9\n",
      "           3       1.00      1.00      1.00         4\n",
      "           4       0.95      1.00      0.98        20\n",
      "\n",
      "    accuracy                           0.97        77\n",
      "   macro avg       0.97      0.97      0.97        77\n",
      "weighted avg       0.98      0.97      0.97        77\n",
      "\n"
     ]
    },
    {
     "data": {
      "image/png": "[encoded data removed]",
      "text/plain": [
       "<Figure size 432x288 with 1 Axes>"
      ]
     },
     "metadata": {},
     "output_type": "display_data"
    },
    {
     "name": "stdout",
     "output_type": "stream",
     "text": [
      "\t\t======================================\n",
      "\n",
      "\t\t\tScore TRAIN: 0.991304347826087\n",
      "0.991304347826087\n",
      "              precision    recall  f1-score   support\n",
      "\n",
      "           0       1.00      1.00      1.00        54\n",
      "           1       1.00      0.88      0.93         8\n",
      "           2       0.88      1.00      0.93         7\n",
      "           3       1.00      1.00      1.00        12\n",
      "           4       1.00      1.00      1.00        34\n",
      "\n",
      "    accuracy                           0.99       115\n",
      "   macro avg       0.97      0.97      0.97       115\n",
      "weighted avg       0.99      0.99      0.99       115\n",
      "\n"
     ]
    },
    {
     "data": {
      "image/png": "[encoded data removed]",
      "text/plain": [
       "<Figure size 432x288 with 1 Axes>"
      ]
     },
     "metadata": {},
     "output_type": "display_data"
    }
   ],
   "source": [
    "print('\\t\\t\\tScore TEST: {}'.format(lr.score(X_test, y_test)))\n",
    "ClasReport(lr, y_test, X_test)\n",
    "\n",
    "print('\\t\\t======================================')\n",
    "\n",
    "print()\n",
    "print('\\t\\t\\tScore TRAIN: {}'.format(lr.score(X_train, y_train)))\n",
    "print(lr.score(X_train, y_train))\n",
    "ClasReport(lr, y_train, X_train)"
   ]
  },
  {
   "cell_type": "markdown",
   "metadata": {
    "papermill": {
     "duration": 0.067641,
     "end_time": "2020-12-15T23:40:19.458923",
     "exception": false,
     "start_time": "2020-12-15T23:40:19.391282",
     "status": "completed"
    },
    "tags": []
   },
   "source": [
    "# Cross_val_score"
   ]
  },
  {
   "cell_type": "code",
   "execution_count": 33,
   "metadata": {
    "execution": {
     "iopub.execute_input": "2020-12-15T23:40:19.607158Z",
     "iopub.status.busy": "2020-12-15T23:40:19.606475Z",
     "iopub.status.idle": "2020-12-15T23:40:20.366694Z",
     "shell.execute_reply": "2020-12-15T23:40:20.367282Z"
    },
    "papermill": {
     "duration": 0.839508,
     "end_time": "2020-12-15T23:40:20.367431",
     "exception": false,
     "start_time": "2020-12-15T23:40:19.527923",
     "status": "completed"
    },
    "tags": []
   },
   "outputs": [
    {
     "name": "stdout",
     "output_type": "stream",
     "text": [
      "5 CV:\n",
      "[1.         1.         0.97368421 0.94736842 1.        ]\n",
      "Total: 0.9842105263157894\n",
      "4 CV:\n",
      "[1.     1.     0.9375 1.    ]\n",
      "Total: 0.984375\n",
      "3 CV:\n",
      "[1.      1.      0.96875]\n",
      "Total: 0.9895833333333334\n"
     ]
    }
   ],
   "source": [
    "from sklearn.model_selection import cross_val_score\n",
    "\n",
    "def val_cross(model, _X, _y):\n",
    "\n",
    "    print('5 CV:\\n{}'.format(cross_val_score(model, _X, _y, cv=5)))\n",
    "    print('Total: {}'.format(sum(cross_val_score(model, _X, _y, cv=5))/5))\n",
    "\n",
    "    print('4 CV:\\n{}'.format(cross_val_score(model, _X, _y, cv=4)))\n",
    "    print('Total: {}'.format(sum(cross_val_score(model, X, y, cv=4))/4))\n",
    "\n",
    "    print('3 CV:\\n{}'.format(cross_val_score(model, _X, _y, cv=3)))\n",
    "    print('Total: {}'.format(sum(cross_val_score(model, _X, _y, cv=3))/3))\n",
    "    \n",
    "val_cross(lr, X, y)"
   ]
  },
  {
   "cell_type": "markdown",
   "metadata": {
    "papermill": {
     "duration": 0.068443,
     "end_time": "2020-12-15T23:40:20.505381",
     "exception": false,
     "start_time": "2020-12-15T23:40:20.436938",
     "status": "completed"
    },
    "tags": []
   },
   "source": [
    "# We balance the data"
   ]
  },
  {
   "cell_type": "markdown",
   "metadata": {
    "papermill": {
     "duration": 0.069728,
     "end_time": "2020-12-15T23:40:20.646042",
     "exception": false,
     "start_time": "2020-12-15T23:40:20.576314",
     "status": "completed"
    },
    "tags": []
   },
   "source": [
    "1. swing with SMOTETomek"
   ]
  },
  {
   "cell_type": "code",
   "execution_count": 34,
   "metadata": {
    "execution": {
     "iopub.execute_input": "2020-12-15T23:40:20.797664Z",
     "iopub.status.busy": "2020-12-15T23:40:20.796932Z",
     "iopub.status.idle": "2020-12-15T23:40:21.039514Z",
     "shell.execute_reply": "2020-12-15T23:40:21.040254Z"
    },
    "papermill": {
     "duration": 0.325792,
     "end_time": "2020-12-15T23:40:21.040408",
     "exception": false,
     "start_time": "2020-12-15T23:40:20.714616",
     "status": "completed"
    },
    "tags": []
   },
   "outputs": [
    {
     "name": "stdout",
     "output_type": "stream",
     "text": [
      "X-X_res shape: (192, 5)-(415, 5)\n",
      "y-y_res shape: (192,)-(415,)\n"
     ]
    }
   ],
   "source": [
    "from imblearn.combine import SMOTETomek\n",
    "\n",
    "SmoteT = SMOTETomek(sampling_strategy='auto', random_state=0)\n",
    "\n",
    "X_res, y_res = SmoteT.fit_sample(X, y)\n",
    "\n",
    "print('X-X_res shape: {}-{}'.format(X.shape, X_res.shape))\n",
    "print('y-y_res shape: {}-{}'.format(y.shape, y_res.shape))"
   ]
  },
  {
   "cell_type": "markdown",
   "metadata": {
    "papermill": {
     "duration": 0.074633,
     "end_time": "2020-12-15T23:40:21.185237",
     "exception": false,
     "start_time": "2020-12-15T23:40:21.110604",
     "status": "completed"
    },
    "tags": []
   },
   "source": [
    "### cross_val_score with SMOTETomek"
   ]
  },
  {
   "cell_type": "code",
   "execution_count": 35,
   "metadata": {
    "execution": {
     "iopub.execute_input": "2020-12-15T23:40:21.362355Z",
     "iopub.status.busy": "2020-12-15T23:40:21.361664Z",
     "iopub.status.idle": "2020-12-15T23:40:22.227943Z",
     "shell.execute_reply": "2020-12-15T23:40:22.227334Z"
    },
    "papermill": {
     "duration": 0.959371,
     "end_time": "2020-12-15T23:40:22.228075",
     "exception": false,
     "start_time": "2020-12-15T23:40:21.268704",
     "status": "completed"
    },
    "tags": []
   },
   "outputs": [
    {
     "name": "stdout",
     "output_type": "stream",
     "text": [
      "5 CV:\n",
      "[1. 1. 1. 1. 1.]\n",
      "Total: 1.0\n",
      "4 CV:\n",
      "[1. 1. 1. 1.]\n",
      "Total: 0.984375\n",
      "3 CV:\n",
      "[0.99280576 1.         1.        ]\n",
      "Total: 0.9976019184652278\n"
     ]
    }
   ],
   "source": [
    "val_cross(lr, X_res, y_res)"
   ]
  },
  {
   "cell_type": "markdown",
   "metadata": {
    "papermill": {
     "duration": 0.072315,
     "end_time": "2020-12-15T23:40:22.378882",
     "exception": false,
     "start_time": "2020-12-15T23:40:22.306567",
     "status": "completed"
    },
    "tags": []
   },
   "source": [
    "2. swing with SMOTEENN"
   ]
  },
  {
   "cell_type": "code",
   "execution_count": 36,
   "metadata": {
    "execution": {
     "iopub.execute_input": "2020-12-15T23:40:22.528273Z",
     "iopub.status.busy": "2020-12-15T23:40:22.527597Z",
     "iopub.status.idle": "2020-12-15T23:40:22.549050Z",
     "shell.execute_reply": "2020-12-15T23:40:22.548010Z"
    },
    "papermill": {
     "duration": 0.100488,
     "end_time": "2020-12-15T23:40:22.549219",
     "exception": false,
     "start_time": "2020-12-15T23:40:22.448731",
     "status": "completed"
    },
    "tags": []
   },
   "outputs": [
    {
     "name": "stdout",
     "output_type": "stream",
     "text": [
      "X-Xres shape: (192, 5)-(412, 5)\n",
      "y-yres shape: (192,)-(412,)\n"
     ]
    }
   ],
   "source": [
    "from imblearn.combine import SMOTEENN\n",
    "\n",
    "SmoteENN = SMOTEENN(sampling_strategy='auto', random_state=0)\n",
    "\n",
    "Xres, yres = SmoteENN.fit_sample(X, y)\n",
    "\n",
    "print('X-Xres shape: {}-{}'.format(X.shape, Xres.shape))\n",
    "print('y-yres shape: {}-{}'.format(y.shape, yres.shape))"
   ]
  },
  {
   "cell_type": "markdown",
   "metadata": {
    "papermill": {
     "duration": 0.070368,
     "end_time": "2020-12-15T23:40:22.699827",
     "exception": false,
     "start_time": "2020-12-15T23:40:22.629459",
     "status": "completed"
    },
    "tags": []
   },
   "source": [
    "### cross_val_score with SMOTEENN"
   ]
  },
  {
   "cell_type": "code",
   "execution_count": 37,
   "metadata": {
    "execution": {
     "iopub.execute_input": "2020-12-15T23:40:22.847508Z",
     "iopub.status.busy": "2020-12-15T23:40:22.846715Z",
     "iopub.status.idle": "2020-12-15T23:40:23.710079Z",
     "shell.execute_reply": "2020-12-15T23:40:23.709287Z"
    },
    "papermill": {
     "duration": 0.939691,
     "end_time": "2020-12-15T23:40:23.710205",
     "exception": false,
     "start_time": "2020-12-15T23:40:22.770514",
     "status": "completed"
    },
    "tags": []
   },
   "outputs": [
    {
     "name": "stdout",
     "output_type": "stream",
     "text": [
      "5 CV:\n",
      "[1. 1. 1. 1. 1.]\n",
      "Total: 1.0\n",
      "4 CV:\n",
      "[1. 1. 1. 1.]\n",
      "Total: 0.984375\n",
      "3 CV:\n",
      "[0.99275362 1.         1.        ]\n",
      "Total: 0.9975845410628019\n"
     ]
    }
   ],
   "source": [
    "val_cross(lr, Xres, yres)"
   ]
  },
  {
   "cell_type": "markdown",
   "metadata": {
    "papermill": {
     "duration": 0.080782,
     "end_time": "2020-12-15T23:40:23.872065",
     "exception": false,
     "start_time": "2020-12-15T23:40:23.791283",
     "status": "completed"
    },
    "tags": []
   },
   "source": [
    "# Conclusion"
   ]
  },
  {
   "cell_type": "markdown",
   "metadata": {
    "papermill": {
     "duration": 0.070902,
     "end_time": "2020-12-15T23:40:24.015991",
     "exception": false,
     "start_time": "2020-12-15T23:40:23.945089",
     "status": "completed"
    },
    "tags": []
   },
   "source": [
    "> As we can see, the probabilistic model (logistic regression) gives us a very good performance, of course entering the correct parameters.\n",
    "\n",
    "> We rule out over-adjustment, due to the minimum difference in the training and validation metrics, and we can also observe that balancing the data, it maintains its performance; we can verify this in the cross-validation scores for these data."
   ]
  }
 ],
 "metadata": {
  "kernelspec": {
   "display_name": "Python 3",
   "language": "python",
   "name": "python3"
  },
  "language_info": {
   "codemirror_mode": {
    "name": "ipython",
    "version": 3
   },
   "file_extension": ".py",
   "mimetype": "text/x-python",
   "name": "python",
   "nbconvert_exporter": "python",
   "pygments_lexer": "ipython3",
   "version": "3.7.6"
  },
  "papermill": {
   "duration": 23.718456,
   "end_time": "2020-12-15T23:40:24.196253",
   "environment_variables": {},
   "exception": null,
   "input_path": "__notebook__.ipynb",
   "output_path": "__notebook__.ipynb",
   "parameters": {},
   "start_time": "2020-12-15T23:40:00.477797",
   "version": "2.1.0"
  }
 },
 "nbformat": 4,
 "nbformat_minor": 4
}
