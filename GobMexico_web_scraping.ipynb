{
  "nbformat": 4,
  "nbformat_minor": 0,
  "metadata": {
    "colab": {
      "name": "web_scraping.ipynb",
      "provenance": [],
      "authorship_tag": "ABX9TyPV01EOmYkBkBtkqbrLIcVO",
      "include_colab_link": true
    },
    "kernelspec": {
      "display_name": "Python 3",
      "name": "python3"
    }
  },
  "cells": [
    {
      "cell_type": "markdown",
      "metadata": {
        "id": "view-in-github",
        "colab_type": "text"
      },
      "source": [
        "<a href=\"https://colab.research.google.com/github/Jean-Rd/Kaggle/blob/main/GobMexico_web_scraping.ipynb\" target=\"_parent\"><img src=\"https://colab.research.google.com/assets/colab-badge.svg\" alt=\"Open In Colab\"/></a>"
      ]
    },
    {
      "cell_type": "code",
      "metadata": {
        "id": "tGg83r554BmG"
      },
      "source": [
        "import requests\n",
        "from bs4 import BeautifulSoup\n",
        "\n",
        "url = 'https://www.gob.mx/presidencia/es/archivo/prensa?idiom=es&order=DESC&page='\n",
        "\n",
        "class GobMexico():\n",
        "\n",
        "  def __init__(self, listpage):\n",
        "\n",
        "    self.listpage = listpage\n",
        "\n",
        "  def geturls(self):\n",
        "\n",
        "    ligas = []\n",
        "\n",
        "    for i in self.listpage:\n",
        "\n",
        "      respuesta = requests.get(url + str(i))\n",
        "\n",
        "      sopa = BeautifulSoup(respuesta.text, 'html.parser')\n",
        "\n",
        "      anchors = sopa.find_all('a')\n",
        "\n",
        "      link = ['https://www.gob.mx'+i.get('href')[2:-2] for i in anchors if 'continuar leyendo' in i.text]\n",
        "\n",
        "      ligas.append(link)\n",
        "\n",
        "    return ligas\n",
        "\n",
        "\n",
        "  def getinformation(self):\n",
        "\n",
        "    dta = []\n",
        "\n",
        "    all_urls = self.geturls()\n",
        "\n",
        "    for i in all_urls:\n",
        "\n",
        "      for j in range(0,9):\n",
        "\n",
        "        pagina = requests.get(i[j])\n",
        "\n",
        "        sopa_pagina = BeautifulSoup(pagina.text)\n",
        "\n",
        "        info = [i.text.replace('\\n','').strip() for i in sopa_pagina.find_all('div', attrs={'class':\"col-sm-7 pull-left\"})[:-1]]\n",
        "\n",
        "        data = {'titulo':info[0], 'parrafo':info[1]}\n",
        "\n",
        "        dta.append(data)\n",
        "\n",
        "\n",
        "    return dta\n"
      ],
      "execution_count": 340,
      "outputs": []
    }
  ]
}